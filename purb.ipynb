{
 "cells": [
  {
   "cell_type": "code",
   "execution_count": 1,
   "outputs": [],
   "source": [
    "import numpy as np\n",
    "import pandas as pd\n",
    "from bs4 import BeautifulSoup\n",
    "from urllib.request import urlopen\n",
    "from datetime import datetime as dt\n",
    "import re\n",
    "import time\n",
    "from IPython.display import clear_output\n",
    "import os"
   ],
   "metadata": {
    "collapsed": false,
    "pycharm": {
     "name": "#%%\n"
    }
   }
  },
  {
   "cell_type": "code",
   "execution_count": 2,
   "outputs": [],
   "source": [
    "def enlace_to_rowdf(enlace):\n",
    "    new_row = dict()\n",
    "    new_row['Código inmueble'] = 'UNASIG 000'\n",
    "    new_row['Enlace'] = enlace\n",
    "    obs_text = ''\n",
    "    try:\n",
    "        page = urlopen(enlace)\n",
    "        html_bytes = page.read()\n",
    "        html = html_bytes.decode(\"utf-8\")\n",
    "        soup = BeautifulSoup(html, 'html.parser')\n",
    "\n",
    "        try:\n",
    "            data_raw_1 = soup.find('title')\n",
    "            new_row['Tipo'] = data_raw_1.text.split(' ')[2]\n",
    "        except:\n",
    "            obs_text = obs_text + 'sin info_2'\n",
    "\n",
    "        try:\n",
    "            data_raw_2 = soup.find('p', attrs={\"class\": \"P-sc-31hrrf-0 hGwghD card-subtitle\"})\n",
    "            new_row['Sector'] = ', '.join(\n",
    "                data_raw_2.text.split(',')[0].upper().replace('SECTOR ', '').replace(' Y ALREDEDORES', '').split(' Y '))\n",
    "        except:\n",
    "            obs_text = obs_text + 'sin info_2'\n",
    "\n",
    "        try:\n",
    "            data_raw_3 = soup.find('ul', attrs={\"class\": \"Ul-sctud2-0 kdIYsW inline-list-grid list-feature-detail\"})\n",
    "            data_raw_3 = data_raw_3.find_all('li')\n",
    "            new_row['Habitaciones'] = int(data_raw_3[1].text[0])\n",
    "            new_row['Baños'] = int(data_raw_3[2].text[0])\n",
    "            new_row['Estrato'] = int(data_raw_3[3].text[0])\n",
    "        except:\n",
    "            new_row['Habitaciones'] = np.NaN\n",
    "            new_row['Baños'] = np.NaN\n",
    "            new_row['Estrato'] = np.NaN\n",
    "            obs_text = obs_text + ', ' + 'sin info_3'\n",
    "\n",
    "        try:\n",
    "            data_raw_4 = soup.find_all(attrs={\"class\": \"Col-sc-14ninbu-0 lfGZKA mb-3 pb-1 col-12 col-lg-3\"})\n",
    "            for element in data_raw_4:\n",
    "                if element.h3.text == 'Precio' or element.h3.text == 'Valor administración':\n",
    "                    text = int(element.p.text[1:].replace('.', ''))\n",
    "                elif element.h3.text == 'Área construida' or element.h3.text == 'Área privada':\n",
    "                    text = float(element.p.text[:-2].replace(' ', ''))\n",
    "                elif element.h3.text == 'Parqueaderos':\n",
    "                    text = int(element.p.text)\n",
    "                elif element.h3.text == 'Barrio común':\n",
    "                    text = element.p.text.upper()\n",
    "                else:\n",
    "                    text = element.p.text\n",
    "                new_row[element.h3.text] = text\n",
    "        except:\n",
    "            obs_text = obs_text + ', ' + 'sin info_4'\n",
    "            new_row['Observaciones'] = obs_text\n",
    "\n",
    "        try:\n",
    "            card_block = soup.find_all('div', attrs={\"class\": \"card-block\"})\n",
    "            try:\n",
    "                lista_interiores_raw = card_block[3].find_all('ul',\n",
    "                                                              attrs={\"class\": \"Ul-sctud2-0 kdIYsW inline-list-grid\"})\n",
    "                lista_interiores = list()\n",
    "                for item in lista_interiores_raw:\n",
    "                    lista_interiores.append(item.text)\n",
    "                new_row['Interiores'] = ', '.join(lista_interiores)\n",
    "            except:\n",
    "                obs_text = obs_text + ', ' + 'sin info_5.1'\n",
    "                new_row['Observaciones'] = obs_text\n",
    "\n",
    "            try:\n",
    "                lista_exteriores_raw = card_block[4].find_all('ul',\n",
    "                                                              attrs={\"class\": \"Ul-sctud2-0 kdIYsW inline-list-grid\"})\n",
    "                lista_exteriores = list()\n",
    "                for item in lista_exteriores_raw:\n",
    "                    lista_exteriores.append(item.text)\n",
    "                new_row['Exteriores'] = ', '.join(lista_exteriores)\n",
    "            except:\n",
    "                obs_text = obs_text + ', ' + 'sin info_5.2'\n",
    "                new_row['Observaciones'] = obs_text\n",
    "            try:\n",
    "                lista_zonascomunes_raw = card_block[5].find_all('ul',\n",
    "                                                                attrs={\"class\": \"Ul-sctud2-0 kdIYsW inline-list-grid\"})\n",
    "                lista_zonascomunes = list()\n",
    "                for item in lista_zonascomunes_raw:\n",
    "                    lista_zonascomunes.append(item.text)\n",
    "                new_row['Zonas comunes'] = ', '.join(lista_zonascomunes)\n",
    "            except:\n",
    "                obs_text = obs_text + ', ' + 'sin info_5.3'\n",
    "                new_row['Observaciones'] = obs_text\n",
    "        except:\n",
    "            obs_text = obs_text + ', ' + 'sin info_5'\n",
    "            new_row['Observaciones'] = obs_text\n",
    "\n",
    "        try:\n",
    "\n",
    "        except:\n",
    "\n",
    "    except:\n",
    "        obs_text = 'Sin acceso a enlace'\n",
    "    new_row['Observaciones'] = obs_text\n",
    "    return new_row"
   ],
   "metadata": {
    "collapsed": false,
    "pycharm": {
     "name": "#%%\n"
    }
   }
  },
  {
   "cell_type": "code",
   "execution_count": 3,
   "outputs": [
    {
     "data": {
      "text/plain": "{'Código inmueble': '2974-M3237376',\n 'Enlace': 'https://www.metrocuadrado.com/inmueble/venta-apartamento-bogota-caobos-salazar-3-habitaciones-2-banos-2-garajes/2974-M3237376',\n 'Tipo': 'Apartamento',\n 'Sector': 'CEDRITOS',\n 'Habitaciones': 3,\n 'Baños': 2,\n 'Estrato': 4,\n 'Barrio común': 'CAOBOS SALAZAR',\n 'Precio': 430000000,\n 'Antigüedad': 'Entre 10 y 20 años',\n 'Área construida': 100.0,\n 'Área privada': 100.0,\n 'Valor administración': 333500,\n 'Parqueaderos': 2,\n 'Interiores': 'Citófonos, Estudio o biblioteca, Parqueadero cubierto, Zona de lavandería, Instalación de gas natural, Piso 3, Calentador gas, Tipo de cocina abierta, Tipo de comedor sala comedor, Deposito 1, Tipo de estufa gas, Tipo de parqueadero propio, Tipo acabado de piso laminado, Vista interior',\n 'Exteriores': 'Ascensor, Circuito cerrado de TV, Conjunto cerrado, Número de Ascensores 1, Vigilancia 24hrs',\n 'Zonas comunes': 'Gimnasio, Salón comunal',\n 'Observaciones': ''}"
     },
     "execution_count": 3,
     "metadata": {},
     "output_type": "execute_result"
    }
   ],
   "source": [
    "enlace = 'https://www.metrocuadrado.com/inmueble/venta-apartamento-bogota-caobos-salazar-3-habitaciones-2-banos-2-garajes/2974-M3237376'\n",
    "enlace_to_rowdf(enlace)"
   ],
   "metadata": {
    "collapsed": false,
    "pycharm": {
     "name": "#%%\n"
    }
   }
  }
 ],
 "metadata": {
  "kernelspec": {
   "display_name": "Python 3",
   "language": "python",
   "name": "python3"
  },
  "language_info": {
   "codemirror_mode": {
    "name": "ipython",
    "version": 2
   },
   "file_extension": ".py",
   "mimetype": "text/x-python",
   "name": "python",
   "nbconvert_exporter": "python",
   "pygments_lexer": "ipython2",
   "version": "2.7.6"
  }
 },
 "nbformat": 4,
 "nbformat_minor": 0
}