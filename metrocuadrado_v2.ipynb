{
 "cells": [
  {
   "cell_type": "code",
   "execution_count": 2,
   "metadata": {
    "collapsed": true,
    "pycharm": {
     "name": "#%%\n"
    }
   },
   "outputs": [],
   "source": [
    "import numpy as np\n",
    "import pandas as pd\n",
    "from bs4 import BeautifulSoup\n",
    "from urllib.request import urlopen\n",
    "from datetime import datetime as dt\n",
    "import re\n",
    "import time\n",
    "from IPython.display import clear_output\n",
    "import os"
   ]
  },
  {
   "cell_type": "code",
   "execution_count": 3,
   "outputs": [],
   "source": [
    "def txt_to_links(text_file):\n",
    "    with open(text_file, 'r', encoding=\"utf-8\") as f:\n",
    "        lista_aptos_raw = f.read()\n",
    "    soup = BeautifulSoup(lista_aptos_raw, 'html.parser')\n",
    "    data_raw = soup.find(attrs={\"class\": \"Ul-sctud2-0 jyGHXP realestate-results-list browse-results-list\"})\n",
    "    data_raw = data_raw.find_all(attrs={\"class\": \"sc-bdVaJa ebNrSm\"})\n",
    "    list_links = list()\n",
    "    for data in data_raw:\n",
    "        try:\n",
    "            list_links.append('https://www.metrocuadrado.com'+data['href'])\n",
    "        except: None\n",
    "    out = list(set(list_links))\n",
    "\n",
    "    print(f'{text_file}. Enlaces importados: {len(out)}')\n",
    "    return out\n",
    "\n",
    "def enlace_to_rowdf(enlace):\n",
    "    new_row = dict()\n",
    "    new_row['Código inmueble'] = 'UNASIG 000'\n",
    "    new_row['Enlace'] = enlace\n",
    "    obs_text = ''\n",
    "    try:\n",
    "        page = urlopen(enlace)\n",
    "        html_bytes = page.read()\n",
    "        html = html_bytes.decode(\"utf-8\")\n",
    "        soup = BeautifulSoup(html, 'html.parser')\n",
    "\n",
    "        try:\n",
    "            data_raw_1 = soup.find('title')\n",
    "            new_row['Tipo'] = data_raw_1.text.split(' ')[2]\n",
    "        except:\n",
    "            obs_text = obs_text + 'sin info_2'\n",
    "\n",
    "        try:\n",
    "            data_raw_2 = soup.find('p', attrs={\"class\": \"P-sc-31hrrf-0 hGwghD card-subtitle\"})\n",
    "            new_row['Sector'] = ', '.join(data_raw_2.text.split(',')[0].upper().replace('SECTOR ', '').replace(' Y ALREDEDORES', '').split(' Y '))\n",
    "        except:\n",
    "            obs_text = obs_text + 'sin info_2'\n",
    "\n",
    "        try:\n",
    "            data_raw_3 = soup.find('ul', attrs={\"class\": \"Ul-sctud2-0 kdIYsW inline-list-grid list-feature-detail\"})\n",
    "            data_raw_3 = data_raw_3.find_all('li')\n",
    "            new_row['Habitaciones'] = int(data_raw_3[1].text[0])\n",
    "            new_row['Baños'] = int(data_raw_3[2].text[0])\n",
    "            new_row['Estrato'] = int(data_raw_3[3].text[0])\n",
    "        except:\n",
    "            new_row['Habitaciones'] = np.NaN\n",
    "            new_row['Baños'] = np.NaN\n",
    "            new_row['Estrato'] = np.NaN\n",
    "            obs_text = obs_text + ', '+ 'sin info_3'\n",
    "\n",
    "        try:\n",
    "            data_raw_4 = soup.find_all(attrs={\"class\": \"Col-sc-14ninbu-0 lfGZKA mb-3 pb-1 col-12 col-lg-3\"})\n",
    "            for element in data_raw_4:\n",
    "                if element.h3.text == 'Precio' or element.h3.text == 'Valor administración':\n",
    "                    text = int(element.p.text[1:].replace('.', ''))\n",
    "                elif element.h3.text == 'Área construida' or element.h3.text == 'Área privada':\n",
    "                    text = float(element.p.text[:-2].replace(' ', ''))\n",
    "                elif element.h3.text == 'Parqueaderos':\n",
    "                    text = int(element.p.text)\n",
    "                elif element.h3.text == 'Barrio común':\n",
    "                    text = element.p.text.upper()\n",
    "                else:\n",
    "                    text = element.p.text\n",
    "                new_row[element.h3.text] = text\n",
    "        except:\n",
    "            obs_text = obs_text + ', '+  'sin info_4'\n",
    "            new_row['Observaciones'] = obs_text\n",
    "\n",
    "        try:\n",
    "            card_block = soup.find_all('div', attrs={\"class\": \"card-block\"})\n",
    "            try:\n",
    "                lista_interiores_raw = card_block[3].find_all('ul', attrs={\"class\": \"Ul-sctud2-0 kdIYsW inline-list-grid\"})\n",
    "                lista_interiores = list()\n",
    "                for item in lista_interiores_raw:\n",
    "                    lista_interiores.append(item.text)\n",
    "                new_row['Interiores'] = ', '.join(lista_interiores)\n",
    "            except:\n",
    "                obs_text = obs_text + ', '+  'sin info_5.1'\n",
    "                new_row['Observaciones'] = obs_text\n",
    "\n",
    "            try:\n",
    "                lista_exteriores_raw = card_block[4].find_all('ul', attrs={\"class\": \"Ul-sctud2-0 kdIYsW inline-list-grid\"})\n",
    "                lista_exteriores = list()\n",
    "                for item in lista_exteriores_raw:\n",
    "                    lista_exteriores.append(item.text)\n",
    "                new_row['Exteriores'] = ', '.join(lista_exteriores)\n",
    "            except:\n",
    "                obs_text = obs_text + ', '+  'sin info_5.2'\n",
    "                new_row['Observaciones'] = obs_text\n",
    "            try:\n",
    "                lista_zonascomunes_raw = card_block[5].find_all('ul', attrs={\"class\": \"Ul-sctud2-0 kdIYsW inline-list-grid\"})\n",
    "                lista_zonascomunes = list()\n",
    "                for item in lista_zonascomunes_raw:\n",
    "                    lista_zonascomunes.append(item.text)\n",
    "                new_row['Zonas comunes'] = ', '.join(lista_zonascomunes)\n",
    "            except:\n",
    "                obs_text = obs_text + ', '+  'sin info_5.3'\n",
    "                new_row['Observaciones'] = obs_text\n",
    "        except:\n",
    "            obs_text = obs_text + ', '+  'sin info_5'\n",
    "            new_row['Observaciones'] = obs_text\n",
    "    except:\n",
    "        obs_text = 'Sin acceso a enlace'\n",
    "    new_row['Observaciones'] = obs_text\n",
    "    return new_row\n",
    "\n",
    "def reposo(time2sleep, n):\n",
    "    clear_output(wait=True)\n",
    "    print(f'>> REPOSO DE {time2sleep} SEGUNDOS, APARTAMENTOS BUSCADOS: {n}')\n",
    "    print('------------------------------------------')\n",
    "    time.sleep(30)\n",
    "    return None\n",
    "\n",
    "columnas = ['Código inmueble', 'Tipo', 'Habitaciones', 'Baños', 'Estrato', 'Precio', 'Antigüedad',\n",
    "            'Área construida', 'Área privada', 'Valor administración', 'Parqueaderos', 'Sector',\n",
    "            'Barrio común', 'Interiores', 'Exteriores', 'Zonas comunes', 'Valor arriendo',\n",
    "            'Enlace', 'Observaciones']\n",
    "\n",
    "def enlaces_to_df(lista_enlaces, columnas=columnas, verbose=False, new=False, no_reposo=50, seg_reposo=30):\n",
    "    \"\"\"\n",
    "    dataframe\n",
    "    lista enlaces\n",
    "    bath_size\n",
    "    \"\"\"\n",
    "    lista_dict_aptos = list()\n",
    "    if not new: df_aptos = pd.read_excel('main_aptos.xlsx')\n",
    "    else: df_aptos = pd.DataFrame(columns=columnas)\n",
    "    n = 0\n",
    "    for enlace in lista_enlaces:\n",
    "        cod = enlace.split('/')[-1]\n",
    "        if cod not in list(df_aptos['Código inmueble']):\n",
    "            print(f'{n+1}: {cod}')\n",
    "            new_row = enlace_to_rowdf(enlace) # diccionario\n",
    "            if verbose: print(new_row)\n",
    "            print('--------')\n",
    "            lista_dict_aptos.append(new_row)\n",
    "            time.sleep(0.5)\n",
    "            cod = new_row['Código inmueble']\n",
    "            n += 1\n",
    "            if n % no_reposo == 0:\n",
    "                if verbose: print(f'{n} apartamentos agregados')\n",
    "                df_dict_aptos=pd.DataFrame(lista_dict_aptos)\n",
    "                df_aptos = pd.concat([df_aptos, df_dict_aptos])\n",
    "                df_aptos.drop_duplicates(inplace=True)\n",
    "                if verbose: df_aptos.to_excel(dt.now().strftime('%Y%m%d_%H%M')+'_aptos'+'.xlsx', index=False) # checkpoint excel\n",
    "                df_aptos.to_excel('main_aptos.xlsx', index=False) # sobreescribe principal\n",
    "                reposo(seg_reposo, n) # descanso\n",
    "        else:\n",
    "            print(f'{cod} ya existe en base')\n",
    "\n",
    "    print(f'FINALIZADO: {n} apartamentos agregados')\n",
    "    df_aptos.to_excel(dt.now().strftime('%Y%m%d_%H%M')+'_aptos'+'.xlsx', index=False)\n",
    "    # df_aptos.to_excel('main_aptos.xlsx', index=False)\n",
    "    return df_aptos"
   ],
   "metadata": {
    "collapsed": false,
    "pycharm": {
     "name": "#%%\n"
    }
   }
  },
  {
   "cell_type": "code",
   "execution_count": 4,
   "outputs": [
    {
     "name": "stdout",
     "output_type": "stream",
     "text": [
      "./data_raw/01.txt. Enlaces importados: 50\n",
      "./data_raw/02.txt. Enlaces importados: 50\n",
      "./data_raw/03.txt. Enlaces importados: 50\n",
      "./data_raw/04.txt. Enlaces importados: 50\n",
      "./data_raw/05.txt. Enlaces importados: 50\n",
      "./data_raw/06.txt. Enlaces importados: 50\n",
      "./data_raw/07.txt. Enlaces importados: 50\n",
      "./data_raw/08.txt. Enlaces importados: 50\n",
      "./data_raw/09.txt. Enlaces importados: 50\n",
      "./data_raw/10.txt. Enlaces importados: 50\n",
      "./data_raw/11.txt. Enlaces importados: 50\n",
      "./data_raw/12.txt. Enlaces importados: 50\n",
      "./data_raw/13.txt. Enlaces importados: 50\n",
      "./data_raw/14.txt. Enlaces importados: 50\n",
      "./data_raw/15.txt. Enlaces importados: 50\n",
      "Total enlaces: 750\n"
     ]
    }
   ],
   "source": [
    "path = \"./data_raw\"\n",
    "dir_list = os.listdir(path)\n",
    "\n",
    "lista_enlaces = list()\n",
    "for doc in dir_list:\n",
    "    out = txt_to_links(f'{path}/{doc}')\n",
    "    lista_enlaces.append(out)\n",
    "lista_enlaces = [item for sublist in lista_enlaces for item in sublist]\n",
    "print(f'Total enlaces: {len(lista_enlaces)}')"
   ],
   "metadata": {
    "collapsed": false,
    "pycharm": {
     "name": "#%%\n"
    }
   }
  },
  {
   "cell_type": "code",
   "execution_count": 5,
   "outputs": [
    {
     "name": "stdout",
     "output_type": "stream",
     "text": [
      ">> REPOSO DE 30 SEGUNDOS, APARTAMENTOS BUSCADOS: 750\n",
      "------------------------------------------\n",
      "FINALIZADO: 750 apartamentos agregados\n"
     ]
    },
    {
     "data": {
      "text/plain": "    Código inmueble         Tipo Habitaciones Baños Estrato       Precio  \\\n0     9947-M3275274  Apartamento            3     2       4    316000000   \n1    10278-M3186223  Apartamento            3     2       4    450000000   \n2    13793-M3500266         Casa            4     3       4    380000000   \n3    11295-M3205718  Apartamento            4     2       3    310151437   \n4     9947-M3580462  Apartamento            3     2       4    270000000   \n..              ...          ...          ...   ...     ...          ...   \n745    183-M3319499  Apartamento          3.0   3.0     4.0  590000000.0   \n746    821-M3184572  Apartamento          3.0   2.0     4.0  418000000.0   \n747    432-M3577579  Apartamento          3.0   3.0     4.0  540000000.0   \n748    133-M2821174         Casa          3.0   3.0     4.0  330000000.0   \n749   2821-M3066593  Apartamento          3.0   2.0     4.0  250000000.0   \n\n             Antigüedad Área construida Área privada Valor administración  \\\n0        Más de 20 años            66.0         66.0             314000.0   \n1      Entre 0 y 5 años            68.0         59.0             313400.0   \n2    Entre 10 y 20 años           105.0        105.0                  NaN   \n3    Entre 10 y 20 años            85.0         85.0                  NaN   \n4    Entre 10 y 20 años            71.0         71.0             219000.0   \n..                  ...             ...          ...                  ...   \n745      Más de 20 años            87.0         87.0             389000.0   \n746   Entre 5 y 10 años            80.0         80.0             341000.0   \n747  Entre 10 y 20 años           108.0        90.25                  NaN   \n748  Entre 10 y 20 años            68.0         68.0             220000.0   \n749  Entre 10 y 20 años            63.0         63.0             190000.0   \n\n    Parqueaderos                   Sector                Barrio común  \\\n0              1                 CEDRITOS                    CEDRITOS   \n1              1                   COLINA              MAZUREN COLINA   \n2              1                ORQUÍDEAS               PRADERA NORTE   \n3              1  BOGOTÁ D.C. ÁREA 85 M²                     ENGATIVÁ   \n4              1                 ENGATIVÁ                   EL DORADO   \n..           ...                      ...                         ...   \n745          1.0          SALITRE MODELIA                  EL SALITRE   \n746          1.0                 CEDRITOS                    CEDRITOS   \n747          2.0                   COLINA                   CANTALEJO   \n748          2.0                   COLINA  CASA BLANCA SECTOR EL PLAN   \n749          1.0           170, ALREDORES                   MIRANDELA   \n\n                                            Interiores  \\\n0    Alarma, Citófonos, Cocina integral, Hall de al...   \n1    Citófonos, Tipo de cortinas persianas, Parquea...   \n2                                       5 añosCalcular   \n3               Zona de lavandería, Piso 0, Deposito 1   \n4    Zona de lavandería, Instalación de gas ninguno...   \n..                                                 ...   \n745  Instalación de gas natural, Calentador no tien...   \n746  Citófonos, Parqueadero cubierto, Hall de alcob...   \n747  Baño auxiliar, Estudio o biblioteca, Hall de a...   \n748  Fondo 0.0 m, Calentador no tiene, Tipo de come...   \n749  Apto para niños, Citófonos, Zona de lavandería...   \n\n                                            Exteriores  \\\n0    Ascensor, Depósito o cuarto útil, Parqueadero ...   \n1    Area Terraza/Balcón 4 m², Ascensor, Piscina, C...   \n2                                                        \n3                                     Conjunto cerrado   \n4    Ascensor, Depósito o cuarto útil, Conjunto cer...   \n..                                                 ...   \n745                                           Ascensor   \n746  Area Terraza/Balcón 3 m², Ascensor, Circuito c...   \n747  Area Terraza/Balcón 1.0 m², Ascensor, Acceso p...   \n748                                    Area lote 68 m²   \n749  Circuito cerrado de TV, Conjunto cerrado, Núme...   \n\n                                         Zonas comunes Valor arriendo  \\\n0    Cerca parques, Cerca transporte público, Sobre...            NaN   \n1    Cancha(s) de basket, Cancha(s) de fútbol, Gimn...            NaN   \n2                                                                 NaN   \n3                                       5 añosCalcular            NaN   \n4    Salón comunal, Zona de BBQ, Zona para niños, Z...            NaN   \n..                                                 ...            ...   \n745                        Salón comunal, Zonas verdes            NaN   \n746              Gimnasio, Salón comunal, Zonas verdes            NaN   \n747                                        Zona de BBQ            NaN   \n748                                       Zonas verdes            NaN   \n749  Gimnasio, Salón comunal, Zona para niños, Zona...            NaN   \n\n                                                Enlace Observaciones  \n0    https://www.metrocuadrado.com/inmueble/venta-a...                \n1    https://www.metrocuadrado.com/inmueble/venta-a...                \n2    https://www.metrocuadrado.com/inmueble/venta-c...                \n3    https://www.metrocuadrado.com/inmueble/venta-a...                \n4    https://www.metrocuadrado.com/inmueble/venta-a...                \n..                                                 ...           ...  \n745  https://www.metrocuadrado.com/inmueble/venta-a...                \n746  https://www.metrocuadrado.com/inmueble/venta-a...                \n747  https://www.metrocuadrado.com/inmueble/venta-a...                \n748  https://www.metrocuadrado.com/inmueble/venta-c...                \n749  https://www.metrocuadrado.com/inmueble/venta-a...                \n\n[750 rows x 19 columns]",
      "text/html": "<div>\n<style scoped>\n    .dataframe tbody tr th:only-of-type {\n        vertical-align: middle;\n    }\n\n    .dataframe tbody tr th {\n        vertical-align: top;\n    }\n\n    .dataframe thead th {\n        text-align: right;\n    }\n</style>\n<table border=\"1\" class=\"dataframe\">\n  <thead>\n    <tr style=\"text-align: right;\">\n      <th></th>\n      <th>Código inmueble</th>\n      <th>Tipo</th>\n      <th>Habitaciones</th>\n      <th>Baños</th>\n      <th>Estrato</th>\n      <th>Precio</th>\n      <th>Antigüedad</th>\n      <th>Área construida</th>\n      <th>Área privada</th>\n      <th>Valor administración</th>\n      <th>Parqueaderos</th>\n      <th>Sector</th>\n      <th>Barrio común</th>\n      <th>Interiores</th>\n      <th>Exteriores</th>\n      <th>Zonas comunes</th>\n      <th>Valor arriendo</th>\n      <th>Enlace</th>\n      <th>Observaciones</th>\n    </tr>\n  </thead>\n  <tbody>\n    <tr>\n      <th>0</th>\n      <td>9947-M3275274</td>\n      <td>Apartamento</td>\n      <td>3</td>\n      <td>2</td>\n      <td>4</td>\n      <td>316000000</td>\n      <td>Más de 20 años</td>\n      <td>66.0</td>\n      <td>66.0</td>\n      <td>314000.0</td>\n      <td>1</td>\n      <td>CEDRITOS</td>\n      <td>CEDRITOS</td>\n      <td>Alarma, Citófonos, Cocina integral, Hall de al...</td>\n      <td>Ascensor, Depósito o cuarto útil, Parqueadero ...</td>\n      <td>Cerca parques, Cerca transporte público, Sobre...</td>\n      <td>NaN</td>\n      <td>https://www.metrocuadrado.com/inmueble/venta-a...</td>\n      <td></td>\n    </tr>\n    <tr>\n      <th>1</th>\n      <td>10278-M3186223</td>\n      <td>Apartamento</td>\n      <td>3</td>\n      <td>2</td>\n      <td>4</td>\n      <td>450000000</td>\n      <td>Entre 0 y 5 años</td>\n      <td>68.0</td>\n      <td>59.0</td>\n      <td>313400.0</td>\n      <td>1</td>\n      <td>COLINA</td>\n      <td>MAZUREN COLINA</td>\n      <td>Citófonos, Tipo de cortinas persianas, Parquea...</td>\n      <td>Area Terraza/Balcón 4 m², Ascensor, Piscina, C...</td>\n      <td>Cancha(s) de basket, Cancha(s) de fútbol, Gimn...</td>\n      <td>NaN</td>\n      <td>https://www.metrocuadrado.com/inmueble/venta-a...</td>\n      <td></td>\n    </tr>\n    <tr>\n      <th>2</th>\n      <td>13793-M3500266</td>\n      <td>Casa</td>\n      <td>4</td>\n      <td>3</td>\n      <td>4</td>\n      <td>380000000</td>\n      <td>Entre 10 y 20 años</td>\n      <td>105.0</td>\n      <td>105.0</td>\n      <td>NaN</td>\n      <td>1</td>\n      <td>ORQUÍDEAS</td>\n      <td>PRADERA NORTE</td>\n      <td>5 añosCalcular</td>\n      <td></td>\n      <td></td>\n      <td>NaN</td>\n      <td>https://www.metrocuadrado.com/inmueble/venta-c...</td>\n      <td></td>\n    </tr>\n    <tr>\n      <th>3</th>\n      <td>11295-M3205718</td>\n      <td>Apartamento</td>\n      <td>4</td>\n      <td>2</td>\n      <td>3</td>\n      <td>310151437</td>\n      <td>Entre 10 y 20 años</td>\n      <td>85.0</td>\n      <td>85.0</td>\n      <td>NaN</td>\n      <td>1</td>\n      <td>BOGOTÁ D.C. ÁREA 85 M²</td>\n      <td>ENGATIVÁ</td>\n      <td>Zona de lavandería, Piso 0, Deposito 1</td>\n      <td>Conjunto cerrado</td>\n      <td>5 añosCalcular</td>\n      <td>NaN</td>\n      <td>https://www.metrocuadrado.com/inmueble/venta-a...</td>\n      <td></td>\n    </tr>\n    <tr>\n      <th>4</th>\n      <td>9947-M3580462</td>\n      <td>Apartamento</td>\n      <td>3</td>\n      <td>2</td>\n      <td>4</td>\n      <td>270000000</td>\n      <td>Entre 10 y 20 años</td>\n      <td>71.0</td>\n      <td>71.0</td>\n      <td>219000.0</td>\n      <td>1</td>\n      <td>ENGATIVÁ</td>\n      <td>EL DORADO</td>\n      <td>Zona de lavandería, Instalación de gas ninguno...</td>\n      <td>Ascensor, Depósito o cuarto útil, Conjunto cer...</td>\n      <td>Salón comunal, Zona de BBQ, Zona para niños, Z...</td>\n      <td>NaN</td>\n      <td>https://www.metrocuadrado.com/inmueble/venta-a...</td>\n      <td></td>\n    </tr>\n    <tr>\n      <th>...</th>\n      <td>...</td>\n      <td>...</td>\n      <td>...</td>\n      <td>...</td>\n      <td>...</td>\n      <td>...</td>\n      <td>...</td>\n      <td>...</td>\n      <td>...</td>\n      <td>...</td>\n      <td>...</td>\n      <td>...</td>\n      <td>...</td>\n      <td>...</td>\n      <td>...</td>\n      <td>...</td>\n      <td>...</td>\n      <td>...</td>\n      <td>...</td>\n    </tr>\n    <tr>\n      <th>745</th>\n      <td>183-M3319499</td>\n      <td>Apartamento</td>\n      <td>3.0</td>\n      <td>3.0</td>\n      <td>4.0</td>\n      <td>590000000.0</td>\n      <td>Más de 20 años</td>\n      <td>87.0</td>\n      <td>87.0</td>\n      <td>389000.0</td>\n      <td>1.0</td>\n      <td>SALITRE MODELIA</td>\n      <td>EL SALITRE</td>\n      <td>Instalación de gas natural, Calentador no tien...</td>\n      <td>Ascensor</td>\n      <td>Salón comunal, Zonas verdes</td>\n      <td>NaN</td>\n      <td>https://www.metrocuadrado.com/inmueble/venta-a...</td>\n      <td></td>\n    </tr>\n    <tr>\n      <th>746</th>\n      <td>821-M3184572</td>\n      <td>Apartamento</td>\n      <td>3.0</td>\n      <td>2.0</td>\n      <td>4.0</td>\n      <td>418000000.0</td>\n      <td>Entre 5 y 10 años</td>\n      <td>80.0</td>\n      <td>80.0</td>\n      <td>341000.0</td>\n      <td>1.0</td>\n      <td>CEDRITOS</td>\n      <td>CEDRITOS</td>\n      <td>Citófonos, Parqueadero cubierto, Hall de alcob...</td>\n      <td>Area Terraza/Balcón 3 m², Ascensor, Circuito c...</td>\n      <td>Gimnasio, Salón comunal, Zonas verdes</td>\n      <td>NaN</td>\n      <td>https://www.metrocuadrado.com/inmueble/venta-a...</td>\n      <td></td>\n    </tr>\n    <tr>\n      <th>747</th>\n      <td>432-M3577579</td>\n      <td>Apartamento</td>\n      <td>3.0</td>\n      <td>3.0</td>\n      <td>4.0</td>\n      <td>540000000.0</td>\n      <td>Entre 10 y 20 años</td>\n      <td>108.0</td>\n      <td>90.25</td>\n      <td>NaN</td>\n      <td>2.0</td>\n      <td>COLINA</td>\n      <td>CANTALEJO</td>\n      <td>Baño auxiliar, Estudio o biblioteca, Hall de a...</td>\n      <td>Area Terraza/Balcón 1.0 m², Ascensor, Acceso p...</td>\n      <td>Zona de BBQ</td>\n      <td>NaN</td>\n      <td>https://www.metrocuadrado.com/inmueble/venta-a...</td>\n      <td></td>\n    </tr>\n    <tr>\n      <th>748</th>\n      <td>133-M2821174</td>\n      <td>Casa</td>\n      <td>3.0</td>\n      <td>3.0</td>\n      <td>4.0</td>\n      <td>330000000.0</td>\n      <td>Entre 10 y 20 años</td>\n      <td>68.0</td>\n      <td>68.0</td>\n      <td>220000.0</td>\n      <td>2.0</td>\n      <td>COLINA</td>\n      <td>CASA BLANCA SECTOR EL PLAN</td>\n      <td>Fondo 0.0 m, Calentador no tiene, Tipo de come...</td>\n      <td>Area lote 68 m²</td>\n      <td>Zonas verdes</td>\n      <td>NaN</td>\n      <td>https://www.metrocuadrado.com/inmueble/venta-c...</td>\n      <td></td>\n    </tr>\n    <tr>\n      <th>749</th>\n      <td>2821-M3066593</td>\n      <td>Apartamento</td>\n      <td>3.0</td>\n      <td>2.0</td>\n      <td>4.0</td>\n      <td>250000000.0</td>\n      <td>Entre 10 y 20 años</td>\n      <td>63.0</td>\n      <td>63.0</td>\n      <td>190000.0</td>\n      <td>1.0</td>\n      <td>170, ALREDORES</td>\n      <td>MIRANDELA</td>\n      <td>Apto para niños, Citófonos, Zona de lavandería...</td>\n      <td>Circuito cerrado de TV, Conjunto cerrado, Núme...</td>\n      <td>Gimnasio, Salón comunal, Zona para niños, Zona...</td>\n      <td>NaN</td>\n      <td>https://www.metrocuadrado.com/inmueble/venta-a...</td>\n      <td></td>\n    </tr>\n  </tbody>\n</table>\n<p>750 rows × 19 columns</p>\n</div>"
     },
     "execution_count": 5,
     "metadata": {},
     "output_type": "execute_result"
    }
   ],
   "source": [
    "enlaces_to_df(lista_enlaces, new=True, verbose=False)"
   ],
   "metadata": {
    "collapsed": false,
    "pycharm": {
     "name": "#%%\n"
    }
   }
  },
  {
   "cell_type": "code",
   "execution_count": null,
   "outputs": [],
   "source": [],
   "metadata": {
    "collapsed": false,
    "pycharm": {
     "name": "#%%\n"
    }
   }
  }
 ],
 "metadata": {
  "kernelspec": {
   "display_name": "Python 3",
   "language": "python",
   "name": "python3"
  },
  "language_info": {
   "codemirror_mode": {
    "name": "ipython",
    "version": 2
   },
   "file_extension": ".py",
   "mimetype": "text/x-python",
   "name": "python",
   "nbconvert_exporter": "python",
   "pygments_lexer": "ipython2",
   "version": "2.7.6"
  }
 },
 "nbformat": 4,
 "nbformat_minor": 0
}